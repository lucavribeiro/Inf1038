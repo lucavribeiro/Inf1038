{
 "cells": [
  {
   "cell_type": "code",
   "execution_count": 94,
   "metadata": {},
   "outputs": [
    {
     "name": "stdout",
     "output_type": "stream",
     "text": [
      "Requirement already satisfied: catboost in /usr/local/lib/python3.11/dist-packages (1.2.2)\n",
      "Requirement already satisfied: graphviz in /usr/local/lib/python3.11/dist-packages (from catboost) (0.20.1)\n",
      "Requirement already satisfied: matplotlib in /usr/local/lib/python3.11/dist-packages (from catboost) (3.8.1)\n",
      "Requirement already satisfied: numpy>=1.16.0 in /usr/local/lib/python3.11/dist-packages (from catboost) (1.26.2)\n",
      "Requirement already satisfied: pandas>=0.24 in /usr/local/lib/python3.11/dist-packages (from catboost) (2.1.3)\n",
      "Requirement already satisfied: scipy in /usr/local/lib/python3.11/dist-packages (from catboost) (1.11.3)\n",
      "Requirement already satisfied: plotly in /usr/local/lib/python3.11/dist-packages (from catboost) (5.18.0)\n",
      "Requirement already satisfied: six in /usr/lib/python3/dist-packages (from catboost) (1.16.0)\n",
      "Requirement already satisfied: python-dateutil>=2.8.2 in /usr/local/lib/python3.11/dist-packages (from pandas>=0.24->catboost) (2.8.2)\n",
      "Requirement already satisfied: pytz>=2020.1 in /usr/local/lib/python3.11/dist-packages (from pandas>=0.24->catboost) (2023.3.post1)\n",
      "Requirement already satisfied: tzdata>=2022.1 in /usr/local/lib/python3.11/dist-packages (from pandas>=0.24->catboost) (2023.3)\n",
      "Requirement already satisfied: contourpy>=1.0.1 in /usr/local/lib/python3.11/dist-packages (from matplotlib->catboost) (1.2.0)\n",
      "Requirement already satisfied: cycler>=0.10 in /usr/local/lib/python3.11/dist-packages (from matplotlib->catboost) (0.12.1)\n",
      "Requirement already satisfied: fonttools>=4.22.0 in /usr/local/lib/python3.11/dist-packages (from matplotlib->catboost) (4.44.0)\n",
      "Requirement already satisfied: kiwisolver>=1.3.1 in /usr/local/lib/python3.11/dist-packages (from matplotlib->catboost) (1.4.5)\n",
      "Requirement already satisfied: packaging>=20.0 in /usr/local/lib/python3.11/dist-packages (from matplotlib->catboost) (23.2)\n",
      "Requirement already satisfied: pillow>=8 in /usr/local/lib/python3.11/dist-packages (from matplotlib->catboost) (10.1.0)\n",
      "Requirement already satisfied: pyparsing>=2.3.1 in /usr/lib/python3/dist-packages (from matplotlib->catboost) (2.4.7)\n",
      "Requirement already satisfied: tenacity>=6.2.0 in /usr/local/lib/python3.11/dist-packages (from plotly->catboost) (8.2.3)\n",
      "\u001b[33mWARNING: Running pip as the 'root' user can result in broken permissions and conflicting behaviour with the system package manager. It is recommended to use a virtual environment instead: https://pip.pypa.io/warnings/venv\u001b[0m\u001b[33m\n",
      "\u001b[0mNote: you may need to restart the kernel to use updated packages.\n"
     ]
    }
   ],
   "source": [
    "%pip install catboost"
   ]
  },
  {
   "cell_type": "code",
   "execution_count": 95,
   "metadata": {},
   "outputs": [],
   "source": [
    "\n",
    "import pandas as pd\n",
    "import numpy as np\n",
    "import matplotlib.pyplot as plt\n",
    "from sklearn.feature_extraction.text import CountVectorizer, TfidfVectorizer\n",
    "from gensim.models import Word2Vec\n",
    "from nltk.tokenize import word_tokenize\n",
    "from transformers import BertTokenizer, TFBertModel\n",
    "from sklearn.svm import SVC\n",
    "from sklearn.linear_model import LogisticRegression\n",
    "from sklearn.ensemble import RandomForestClassifier\n",
    "from sklearn.neighbors import KNeighborsClassifier\n",
    "from sklearn.naive_bayes import MultinomialNB\n",
    "from sklearn.tree import DecisionTreeClassifier\n",
    "import lightgbm as lgb\n",
    "import xgboost as xgb\n",
    "import catboost as cb\n",
    "from sklearn.ensemble import HistGradientBoostingClassifier\n",
    "import tensorflow as tf\n",
    "from tensorflow import keras\n",
    "from tensorflow.keras import layers\n",
    "from sklearn.ensemble import VotingClassifier\n",
    "from sklearn.model_selection import cross_val_score, GridSearchCV\n",
    "from sklearn.metrics import accuracy_score, precision_score, recall_score, confusion_matrix\n",
    "from sklearn.model_selection import train_test_split\n",
    "from multiprocessing import cpu_count\n"
   ]
  },
  {
   "cell_type": "code",
   "execution_count": 96,
   "metadata": {},
   "outputs": [],
   "source": [
    "kaggle = False"
   ]
  },
  {
   "cell_type": "code",
   "execution_count": 97,
   "metadata": {},
   "outputs": [
    {
     "data": {
      "text/html": [
       "<div>\n",
       "<style scoped>\n",
       "    .dataframe tbody tr th:only-of-type {\n",
       "        vertical-align: middle;\n",
       "    }\n",
       "\n",
       "    .dataframe tbody tr th {\n",
       "        vertical-align: top;\n",
       "    }\n",
       "\n",
       "    .dataframe thead th {\n",
       "        text-align: right;\n",
       "    }\n",
       "</style>\n",
       "<table border=\"1\" class=\"dataframe\">\n",
       "  <thead>\n",
       "    <tr style=\"text-align: right;\">\n",
       "      <th></th>\n",
       "      <th>Title</th>\n",
       "      <th>Review</th>\n",
       "      <th>Cons_rating</th>\n",
       "      <th>Cloth_class</th>\n",
       "      <th>Materials</th>\n",
       "      <th>Construction</th>\n",
       "      <th>Color</th>\n",
       "      <th>Finishing</th>\n",
       "      <th>Durability</th>\n",
       "    </tr>\n",
       "  </thead>\n",
       "  <tbody>\n",
       "    <tr>\n",
       "      <th>0</th>\n",
       "      <td>NaN</td>\n",
       "      <td>Absolutely wonderful - silky and sexy and comf...</td>\n",
       "      <td>4.0</td>\n",
       "      <td>Intimates</td>\n",
       "      <td>0.0</td>\n",
       "      <td>0.0</td>\n",
       "      <td>0.0</td>\n",
       "      <td>1.0</td>\n",
       "      <td>0.0</td>\n",
       "    </tr>\n",
       "    <tr>\n",
       "      <th>1</th>\n",
       "      <td>NaN</td>\n",
       "      <td>Love this dress!  it's sooo pretty.  i happene...</td>\n",
       "      <td>5.0</td>\n",
       "      <td>Dresses</td>\n",
       "      <td>0.0</td>\n",
       "      <td>1.0</td>\n",
       "      <td>0.0</td>\n",
       "      <td>0.0</td>\n",
       "      <td>0.0</td>\n",
       "    </tr>\n",
       "    <tr>\n",
       "      <th>2</th>\n",
       "      <td>Some major design flaws</td>\n",
       "      <td>I had such high hopes for this dress and reall...</td>\n",
       "      <td>3.0</td>\n",
       "      <td>Dresses</td>\n",
       "      <td>0.0</td>\n",
       "      <td>0.0</td>\n",
       "      <td>0.0</td>\n",
       "      <td>1.0</td>\n",
       "      <td>0.0</td>\n",
       "    </tr>\n",
       "    <tr>\n",
       "      <th>3</th>\n",
       "      <td>My favorite buy!</td>\n",
       "      <td>I love, love, love this jumpsuit. it's fun, fl...</td>\n",
       "      <td>5.0</td>\n",
       "      <td>Pants</td>\n",
       "      <td>0.0</td>\n",
       "      <td>0.0</td>\n",
       "      <td>0.0</td>\n",
       "      <td>0.0</td>\n",
       "      <td>0.0</td>\n",
       "    </tr>\n",
       "    <tr>\n",
       "      <th>4</th>\n",
       "      <td>Flattering shirt</td>\n",
       "      <td>This shirt is very flattering to all due to th...</td>\n",
       "      <td>5.0</td>\n",
       "      <td>Blouses</td>\n",
       "      <td>0.0</td>\n",
       "      <td>1.0</td>\n",
       "      <td>0.0</td>\n",
       "      <td>0.0</td>\n",
       "      <td>0.0</td>\n",
       "    </tr>\n",
       "    <tr>\n",
       "      <th>...</th>\n",
       "      <td>...</td>\n",
       "      <td>...</td>\n",
       "      <td>...</td>\n",
       "      <td>...</td>\n",
       "      <td>...</td>\n",
       "      <td>...</td>\n",
       "      <td>...</td>\n",
       "      <td>...</td>\n",
       "      <td>...</td>\n",
       "    </tr>\n",
       "    <tr>\n",
       "      <th>49333</th>\n",
       "      <td>Dress felt and fit great.  I got lots of compl...</td>\n",
       "      <td>Loved the color!!!  Dress fit great and I got ...</td>\n",
       "      <td>5.0</td>\n",
       "      <td>Dresses</td>\n",
       "      <td>0.0</td>\n",
       "      <td>0.0</td>\n",
       "      <td>1.0</td>\n",
       "      <td>0.0</td>\n",
       "      <td>0.0</td>\n",
       "    </tr>\n",
       "    <tr>\n",
       "      <th>49334</th>\n",
       "      <td>Loved the dress but poor quality</td>\n",
       "      <td>This dress looked great and I loved the materi...</td>\n",
       "      <td>2.0</td>\n",
       "      <td>Dresses</td>\n",
       "      <td>1.0</td>\n",
       "      <td>0.0</td>\n",
       "      <td>0.0</td>\n",
       "      <td>0.0</td>\n",
       "      <td>1.0</td>\n",
       "    </tr>\n",
       "    <tr>\n",
       "      <th>49335</th>\n",
       "      <td>Cute dress, didn't fit</td>\n",
       "      <td>Wanted this dress to work it didn't. It is ver...</td>\n",
       "      <td>1.0</td>\n",
       "      <td>Dresses</td>\n",
       "      <td>0.0</td>\n",
       "      <td>1.0</td>\n",
       "      <td>0.0</td>\n",
       "      <td>0.0</td>\n",
       "      <td>0.0</td>\n",
       "    </tr>\n",
       "    <tr>\n",
       "      <th>49336</th>\n",
       "      <td>Very cute!</td>\n",
       "      <td>No complaints othe than the zipper gets stuck ...</td>\n",
       "      <td>4.0</td>\n",
       "      <td>Dresses</td>\n",
       "      <td>0.0</td>\n",
       "      <td>0.0</td>\n",
       "      <td>0.0</td>\n",
       "      <td>0.0</td>\n",
       "      <td>1.0</td>\n",
       "    </tr>\n",
       "    <tr>\n",
       "      <th>49337</th>\n",
       "      <td>Good fit</td>\n",
       "      <td>The fabric was really nice, I'm a L and it fit...</td>\n",
       "      <td>5.0</td>\n",
       "      <td>Dresses</td>\n",
       "      <td>1.0</td>\n",
       "      <td>1.0</td>\n",
       "      <td>0.0</td>\n",
       "      <td>0.0</td>\n",
       "      <td>0.0</td>\n",
       "    </tr>\n",
       "  </tbody>\n",
       "</table>\n",
       "<p>49338 rows × 9 columns</p>\n",
       "</div>"
      ],
      "text/plain": [
       "                                                   Title  \\\n",
       "0                                                    NaN   \n",
       "1                                                    NaN   \n",
       "2                                Some major design flaws   \n",
       "3                                       My favorite buy!   \n",
       "4                                       Flattering shirt   \n",
       "...                                                  ...   \n",
       "49333  Dress felt and fit great.  I got lots of compl...   \n",
       "49334                   Loved the dress but poor quality   \n",
       "49335                             Cute dress, didn't fit   \n",
       "49336                                         Very cute!   \n",
       "49337                                           Good fit   \n",
       "\n",
       "                                                  Review  Cons_rating  \\\n",
       "0      Absolutely wonderful - silky and sexy and comf...          4.0   \n",
       "1      Love this dress!  it's sooo pretty.  i happene...          5.0   \n",
       "2      I had such high hopes for this dress and reall...          3.0   \n",
       "3      I love, love, love this jumpsuit. it's fun, fl...          5.0   \n",
       "4      This shirt is very flattering to all due to th...          5.0   \n",
       "...                                                  ...          ...   \n",
       "49333  Loved the color!!!  Dress fit great and I got ...          5.0   \n",
       "49334  This dress looked great and I loved the materi...          2.0   \n",
       "49335  Wanted this dress to work it didn't. It is ver...          1.0   \n",
       "49336  No complaints othe than the zipper gets stuck ...          4.0   \n",
       "49337  The fabric was really nice, I'm a L and it fit...          5.0   \n",
       "\n",
       "      Cloth_class  Materials  Construction  Color  Finishing  Durability  \n",
       "0       Intimates        0.0           0.0    0.0        1.0         0.0  \n",
       "1         Dresses        0.0           1.0    0.0        0.0         0.0  \n",
       "2         Dresses        0.0           0.0    0.0        1.0         0.0  \n",
       "3           Pants        0.0           0.0    0.0        0.0         0.0  \n",
       "4         Blouses        0.0           1.0    0.0        0.0         0.0  \n",
       "...           ...        ...           ...    ...        ...         ...  \n",
       "49333     Dresses        0.0           0.0    1.0        0.0         0.0  \n",
       "49334     Dresses        1.0           0.0    0.0        0.0         1.0  \n",
       "49335     Dresses        0.0           1.0    0.0        0.0         0.0  \n",
       "49336     Dresses        0.0           0.0    0.0        0.0         1.0  \n",
       "49337     Dresses        1.0           1.0    0.0        0.0         0.0  \n",
       "\n",
       "[49338 rows x 9 columns]"
      ]
     },
     "metadata": {},
     "output_type": "display_data"
    }
   ],
   "source": [
    "filepath = 'data/reviews.csv' if not kaggle else './kaggle/input/consumer-review-of-clothing-product/Consumer Review of Clothing Product/data_amazon.xlsx - Sheet1.csv'\n",
    "\n",
    "df = pd.read_csv(filepath)\n",
    "\n",
    "display(df)"
   ]
  },
  {
   "cell_type": "code",
   "execution_count": 98,
   "metadata": {},
   "outputs": [
    {
     "data": {
      "text/html": [
       "<div>\n",
       "<style scoped>\n",
       "    .dataframe tbody tr th:only-of-type {\n",
       "        vertical-align: middle;\n",
       "    }\n",
       "\n",
       "    .dataframe tbody tr th {\n",
       "        vertical-align: top;\n",
       "    }\n",
       "\n",
       "    .dataframe thead th {\n",
       "        text-align: right;\n",
       "    }\n",
       "</style>\n",
       "<table border=\"1\" class=\"dataframe\">\n",
       "  <thead>\n",
       "    <tr style=\"text-align: right;\">\n",
       "      <th></th>\n",
       "      <th>Title</th>\n",
       "      <th>Review</th>\n",
       "      <th>Cons_rating</th>\n",
       "      <th>Cloth_class</th>\n",
       "    </tr>\n",
       "  </thead>\n",
       "  <tbody>\n",
       "    <tr>\n",
       "      <th>2</th>\n",
       "      <td>Some major design flaws</td>\n",
       "      <td>I had such high hopes for this dress and reall...</td>\n",
       "      <td>3.0</td>\n",
       "      <td>Dresses</td>\n",
       "    </tr>\n",
       "    <tr>\n",
       "      <th>3</th>\n",
       "      <td>My favorite buy!</td>\n",
       "      <td>I love, love, love this jumpsuit. it's fun, fl...</td>\n",
       "      <td>5.0</td>\n",
       "      <td>Pants</td>\n",
       "    </tr>\n",
       "    <tr>\n",
       "      <th>4</th>\n",
       "      <td>Flattering shirt</td>\n",
       "      <td>This shirt is very flattering to all due to th...</td>\n",
       "      <td>5.0</td>\n",
       "      <td>Blouses</td>\n",
       "    </tr>\n",
       "    <tr>\n",
       "      <th>5</th>\n",
       "      <td>Not for the very petite</td>\n",
       "      <td>I love tracy reese dresses, but this one is no...</td>\n",
       "      <td>2.0</td>\n",
       "      <td>Dresses</td>\n",
       "    </tr>\n",
       "    <tr>\n",
       "      <th>6</th>\n",
       "      <td>Cagrcoal shimmer fun</td>\n",
       "      <td>I aded this in my basket at hte last mintue to...</td>\n",
       "      <td>5.0</td>\n",
       "      <td>Knits</td>\n",
       "    </tr>\n",
       "  </tbody>\n",
       "</table>\n",
       "</div>"
      ],
      "text/plain": [
       "                     Title                                             Review  \\\n",
       "2  Some major design flaws  I had such high hopes for this dress and reall...   \n",
       "3         My favorite buy!  I love, love, love this jumpsuit. it's fun, fl...   \n",
       "4         Flattering shirt  This shirt is very flattering to all due to th...   \n",
       "5  Not for the very petite  I love tracy reese dresses, but this one is no...   \n",
       "6     Cagrcoal shimmer fun  I aded this in my basket at hte last mintue to...   \n",
       "\n",
       "   Cons_rating Cloth_class  \n",
       "2          3.0     Dresses  \n",
       "3          5.0       Pants  \n",
       "4          5.0     Blouses  \n",
       "5          2.0     Dresses  \n",
       "6          5.0       Knits  "
      ]
     },
     "execution_count": 98,
     "metadata": {},
     "output_type": "execute_result"
    }
   ],
   "source": [
    "clean_df = df.dropna(subset = ['Title', 'Review']).drop(columns = ['Materials', 'Construction', 'Color', 'Finishing', 'Durability'])\n",
    "clean_df.head()"
   ]
  },
  {
   "cell_type": "code",
   "execution_count": 99,
   "metadata": {},
   "outputs": [],
   "source": [
    "\n",
    "cloth_class = clean_df['Cloth_class'].unique()\n",
    "clean_df['Cloth_class'] = clean_df['Cloth_class'].replace(cloth_class, range(len(cloth_class)))\n",
    "\n",
    "X = clean_df.drop([\"Cons_rating\",\"Title\",\"Review\"], axis=1)\n",
    "Y = clean_df[\"Cons_rating\"]"
   ]
  },
  {
   "cell_type": "code",
   "execution_count": 100,
   "metadata": {},
   "outputs": [],
   "source": [
    "models = []"
   ]
  },
  {
   "cell_type": "code",
   "execution_count": 101,
   "metadata": {},
   "outputs": [],
   "source": [
    "def train_test(name,model,grid={}):\n",
    "    print(name)\n",
    "    res_grid = None\n",
    "    test_size = 0.3\n",
    "    X_train, X_test, Y_train, Y_test = train_test_split(X,Y,test_size=test_size,random_state=42)\n",
    "    res = GridSearchCV(model,grid)\n",
    "    res.fit(X_train,Y_train)\n",
    "    res_grid = res.best_params_\n",
    "    scores = [res.score(X_train,Y_train),res.score(X_test,Y_test)]\n",
    "    \n",
    "    print(\"Train score: \", scores[0])\n",
    "    print(\"Test score: \", scores[1])\n",
    "    print(\"Best params: \", res_grid)\n",
    "    print(\"\\n\\n\\n\")\n",
    "    \n",
    "    models.append((name,scores[0],scores[1],res_grid))\n",
    "    return res,res_grid,scores\n",
    "    "
   ]
  },
  {
   "cell_type": "code",
   "execution_count": 102,
   "metadata": {},
   "outputs": [
    {
     "name": "stdout",
     "output_type": "stream",
     "text": [
      "Logistic Regression\n"
     ]
    },
    {
     "name": "stdout",
     "output_type": "stream",
     "text": [
      "Train score:  0.5739818433993191\n",
      "Test score:  0.5810840626608811\n",
      "Best params:  {'C': 0.1}\n",
      "\n",
      "\n",
      "\n",
      "\n"
     ]
    },
    {
     "data": {
      "text/plain": [
       "(GridSearchCV(estimator=LogisticRegression(), param_grid={'C': [0.1, 1, 10]}),\n",
       " {'C': 0.1},\n",
       " [0.5739818433993191, 0.5810840626608811])"
      ]
     },
     "execution_count": 102,
     "metadata": {},
     "output_type": "execute_result"
    }
   ],
   "source": [
    "\n",
    "name = \"Logistic Regression\"\n",
    "logistic_grid = {'C':[0.1,1,10]}\n",
    "train_test(name,LogisticRegression(),logistic_grid)"
   ]
  },
  {
   "cell_type": "code",
   "execution_count": 103,
   "metadata": {},
   "outputs": [
    {
     "name": "stdout",
     "output_type": "stream",
     "text": [
      "SVC rbf\n",
      "Train score:  0.5739818433993191\n",
      "Test score:  0.5810840626608811\n",
      "Best params:  {'C': 0.1}\n",
      "\n",
      "\n",
      "\n",
      "\n",
      "SVC linear\n",
      "Train score:  0.5739818433993191\n",
      "Test score:  0.5810840626608811\n",
      "Best params:  {'C': 0.1}\n",
      "\n",
      "\n",
      "\n",
      "\n",
      "SVC poly\n",
      "Train score:  0.5739818433993191\n",
      "Test score:  0.5810840626608811\n",
      "Best params:  {'C': 0.1}\n",
      "\n",
      "\n",
      "\n",
      "\n",
      "SVC sigmoid\n"
     ]
    },
    {
     "ename": "KeyboardInterrupt",
     "evalue": "",
     "output_type": "error",
     "traceback": [
      "\u001b[0;31m---------------------------------------------------------------------------\u001b[0m",
      "\u001b[0;31mKeyboardInterrupt\u001b[0m                         Traceback (most recent call last)",
      "\u001b[1;32m/media/edudaluna/HD/Repos/Github/Inf1038/luna.ipynb Célula 10\u001b[0m line \u001b[0;36m5\n\u001b[1;32m      <a href='vscode-notebook-cell:/media/edudaluna/HD/Repos/Github/Inf1038/luna.ipynb#X12sZmlsZQ%3D%3D?line=2'>3</a>\u001b[0m \u001b[39mfor\u001b[39;00m kernel \u001b[39min\u001b[39;00m [\u001b[39m'\u001b[39m\u001b[39mrbf\u001b[39m\u001b[39m'\u001b[39m,\u001b[39m'\u001b[39m\u001b[39mlinear\u001b[39m\u001b[39m'\u001b[39m,\u001b[39m'\u001b[39m\u001b[39mpoly\u001b[39m\u001b[39m'\u001b[39m,\u001b[39m'\u001b[39m\u001b[39msigmoid\u001b[39m\u001b[39m'\u001b[39m]:\n\u001b[1;32m      <a href='vscode-notebook-cell:/media/edudaluna/HD/Repos/Github/Inf1038/luna.ipynb#X12sZmlsZQ%3D%3D?line=3'>4</a>\u001b[0m     svc_grid \u001b[39m=\u001b[39m {\u001b[39m'\u001b[39m\u001b[39mC\u001b[39m\u001b[39m'\u001b[39m:[\u001b[39m0.1\u001b[39m,\u001b[39m1\u001b[39m,\u001b[39m10\u001b[39m]}\n\u001b[0;32m----> <a href='vscode-notebook-cell:/media/edudaluna/HD/Repos/Github/Inf1038/luna.ipynb#X12sZmlsZQ%3D%3D?line=4'>5</a>\u001b[0m     train_test(\u001b[39mf\u001b[39;49m\u001b[39m\"\u001b[39;49m\u001b[39m{\u001b[39;49;00mname\u001b[39m}\u001b[39;49;00m\u001b[39m \u001b[39;49m\u001b[39m{\u001b[39;49;00mkernel\u001b[39m}\u001b[39;49;00m\u001b[39m\"\u001b[39;49m,SVC(kernel\u001b[39m=\u001b[39;49mkernel),svc_grid)\n",
      "\u001b[1;32m/media/edudaluna/HD/Repos/Github/Inf1038/luna.ipynb Célula 10\u001b[0m line \u001b[0;36m9\n\u001b[1;32m      <a href='vscode-notebook-cell:/media/edudaluna/HD/Repos/Github/Inf1038/luna.ipynb#X12sZmlsZQ%3D%3D?line=6'>7</a>\u001b[0m res\u001b[39m.\u001b[39mfit(X_train,Y_train)\n\u001b[1;32m      <a href='vscode-notebook-cell:/media/edudaluna/HD/Repos/Github/Inf1038/luna.ipynb#X12sZmlsZQ%3D%3D?line=7'>8</a>\u001b[0m res_grid \u001b[39m=\u001b[39m res\u001b[39m.\u001b[39mbest_params_\n\u001b[0;32m----> <a href='vscode-notebook-cell:/media/edudaluna/HD/Repos/Github/Inf1038/luna.ipynb#X12sZmlsZQ%3D%3D?line=8'>9</a>\u001b[0m scores \u001b[39m=\u001b[39m [res\u001b[39m.\u001b[39;49mscore(X_train,Y_train),res\u001b[39m.\u001b[39mscore(X_test,Y_test)]\n\u001b[1;32m     <a href='vscode-notebook-cell:/media/edudaluna/HD/Repos/Github/Inf1038/luna.ipynb#X12sZmlsZQ%3D%3D?line=10'>11</a>\u001b[0m \u001b[39mprint\u001b[39m(\u001b[39m\"\u001b[39m\u001b[39mTrain score: \u001b[39m\u001b[39m\"\u001b[39m, scores[\u001b[39m0\u001b[39m])\n\u001b[1;32m     <a href='vscode-notebook-cell:/media/edudaluna/HD/Repos/Github/Inf1038/luna.ipynb#X12sZmlsZQ%3D%3D?line=11'>12</a>\u001b[0m \u001b[39mprint\u001b[39m(\u001b[39m\"\u001b[39m\u001b[39mTest score: \u001b[39m\u001b[39m\"\u001b[39m, scores[\u001b[39m1\u001b[39m])\n",
      "File \u001b[0;32m/usr/local/lib/python3.11/dist-packages/sklearn/model_selection/_search.py:471\u001b[0m, in \u001b[0;36mBaseSearchCV.score\u001b[0;34m(self, X, y)\u001b[0m\n\u001b[1;32m    468\u001b[0m     \u001b[39mreturn\u001b[39;00m scorer(\u001b[39mself\u001b[39m\u001b[39m.\u001b[39mbest_estimator_, X, y)\n\u001b[1;32m    470\u001b[0m \u001b[39m# callable\u001b[39;00m\n\u001b[0;32m--> 471\u001b[0m score \u001b[39m=\u001b[39m \u001b[39mself\u001b[39;49m\u001b[39m.\u001b[39;49mscorer_(\u001b[39mself\u001b[39;49m\u001b[39m.\u001b[39;49mbest_estimator_, X, y)\n\u001b[1;32m    472\u001b[0m \u001b[39mif\u001b[39;00m \u001b[39mself\u001b[39m\u001b[39m.\u001b[39mmultimetric_:\n\u001b[1;32m    473\u001b[0m     score \u001b[39m=\u001b[39m score[\u001b[39mself\u001b[39m\u001b[39m.\u001b[39mrefit]\n",
      "File \u001b[0;32m/usr/local/lib/python3.11/dist-packages/sklearn/metrics/_scorer.py:527\u001b[0m, in \u001b[0;36m_PassthroughScorer.__call__\u001b[0;34m(self, estimator, *args, **kwargs)\u001b[0m\n\u001b[1;32m    525\u001b[0m \u001b[39mdef\u001b[39;00m \u001b[39m__call__\u001b[39m(\u001b[39mself\u001b[39m, estimator, \u001b[39m*\u001b[39margs, \u001b[39m*\u001b[39m\u001b[39m*\u001b[39mkwargs):\n\u001b[1;32m    526\u001b[0m \u001b[39m    \u001b[39m\u001b[39m\"\"\"Method that wraps estimator.score\"\"\"\u001b[39;00m\n\u001b[0;32m--> 527\u001b[0m     \u001b[39mreturn\u001b[39;00m estimator\u001b[39m.\u001b[39;49mscore(\u001b[39m*\u001b[39;49margs, \u001b[39m*\u001b[39;49m\u001b[39m*\u001b[39;49mkwargs)\n",
      "File \u001b[0;32m/usr/local/lib/python3.11/dist-packages/sklearn/base.py:706\u001b[0m, in \u001b[0;36mClassifierMixin.score\u001b[0;34m(self, X, y, sample_weight)\u001b[0m\n\u001b[1;32m    681\u001b[0m \u001b[39m\u001b[39m\u001b[39m\"\"\"\u001b[39;00m\n\u001b[1;32m    682\u001b[0m \u001b[39mReturn the mean accuracy on the given test data and labels.\u001b[39;00m\n\u001b[1;32m    683\u001b[0m \n\u001b[0;32m   (...)\u001b[0m\n\u001b[1;32m    702\u001b[0m \u001b[39m    Mean accuracy of ``self.predict(X)`` w.r.t. `y`.\u001b[39;00m\n\u001b[1;32m    703\u001b[0m \u001b[39m\"\"\"\u001b[39;00m\n\u001b[1;32m    704\u001b[0m \u001b[39mfrom\u001b[39;00m \u001b[39m.\u001b[39;00m\u001b[39mmetrics\u001b[39;00m \u001b[39mimport\u001b[39;00m accuracy_score\n\u001b[0;32m--> 706\u001b[0m \u001b[39mreturn\u001b[39;00m accuracy_score(y, \u001b[39mself\u001b[39;49m\u001b[39m.\u001b[39;49mpredict(X), sample_weight\u001b[39m=\u001b[39msample_weight)\n",
      "File \u001b[0;32m/usr/local/lib/python3.11/dist-packages/sklearn/svm/_base.py:818\u001b[0m, in \u001b[0;36mBaseSVC.predict\u001b[0;34m(self, X)\u001b[0m\n\u001b[1;32m    816\u001b[0m     y \u001b[39m=\u001b[39m np\u001b[39m.\u001b[39margmax(\u001b[39mself\u001b[39m\u001b[39m.\u001b[39mdecision_function(X), axis\u001b[39m=\u001b[39m\u001b[39m1\u001b[39m)\n\u001b[1;32m    817\u001b[0m \u001b[39melse\u001b[39;00m:\n\u001b[0;32m--> 818\u001b[0m     y \u001b[39m=\u001b[39m \u001b[39msuper\u001b[39;49m()\u001b[39m.\u001b[39;49mpredict(X)\n\u001b[1;32m    819\u001b[0m \u001b[39mreturn\u001b[39;00m \u001b[39mself\u001b[39m\u001b[39m.\u001b[39mclasses_\u001b[39m.\u001b[39mtake(np\u001b[39m.\u001b[39masarray(y, dtype\u001b[39m=\u001b[39mnp\u001b[39m.\u001b[39mintp))\n",
      "File \u001b[0;32m/usr/local/lib/python3.11/dist-packages/sklearn/svm/_base.py:433\u001b[0m, in \u001b[0;36mBaseLibSVM.predict\u001b[0;34m(self, X)\u001b[0m\n\u001b[1;32m    431\u001b[0m X \u001b[39m=\u001b[39m \u001b[39mself\u001b[39m\u001b[39m.\u001b[39m_validate_for_predict(X)\n\u001b[1;32m    432\u001b[0m predict \u001b[39m=\u001b[39m \u001b[39mself\u001b[39m\u001b[39m.\u001b[39m_sparse_predict \u001b[39mif\u001b[39;00m \u001b[39mself\u001b[39m\u001b[39m.\u001b[39m_sparse \u001b[39melse\u001b[39;00m \u001b[39mself\u001b[39m\u001b[39m.\u001b[39m_dense_predict\n\u001b[0;32m--> 433\u001b[0m \u001b[39mreturn\u001b[39;00m predict(X)\n",
      "File \u001b[0;32m/usr/local/lib/python3.11/dist-packages/sklearn/svm/_base.py:452\u001b[0m, in \u001b[0;36mBaseLibSVM._dense_predict\u001b[0;34m(self, X)\u001b[0m\n\u001b[1;32m    444\u001b[0m         \u001b[39mraise\u001b[39;00m \u001b[39mValueError\u001b[39;00m(\n\u001b[1;32m    445\u001b[0m             \u001b[39m\"\u001b[39m\u001b[39mX.shape[1] = \u001b[39m\u001b[39m%d\u001b[39;00m\u001b[39m should be equal to \u001b[39m\u001b[39m%d\u001b[39;00m\u001b[39m, \u001b[39m\u001b[39m\"\u001b[39m\n\u001b[1;32m    446\u001b[0m             \u001b[39m\"\u001b[39m\u001b[39mthe number of samples at training time\u001b[39m\u001b[39m\"\u001b[39m\n\u001b[1;32m    447\u001b[0m             \u001b[39m%\u001b[39m (X\u001b[39m.\u001b[39mshape[\u001b[39m1\u001b[39m], \u001b[39mself\u001b[39m\u001b[39m.\u001b[39mshape_fit_[\u001b[39m0\u001b[39m])\n\u001b[1;32m    448\u001b[0m         )\n\u001b[1;32m    450\u001b[0m svm_type \u001b[39m=\u001b[39m LIBSVM_IMPL\u001b[39m.\u001b[39mindex(\u001b[39mself\u001b[39m\u001b[39m.\u001b[39m_impl)\n\u001b[0;32m--> 452\u001b[0m \u001b[39mreturn\u001b[39;00m libsvm\u001b[39m.\u001b[39;49mpredict(\n\u001b[1;32m    453\u001b[0m     X,\n\u001b[1;32m    454\u001b[0m     \u001b[39mself\u001b[39;49m\u001b[39m.\u001b[39;49msupport_,\n\u001b[1;32m    455\u001b[0m     \u001b[39mself\u001b[39;49m\u001b[39m.\u001b[39;49msupport_vectors_,\n\u001b[1;32m    456\u001b[0m     \u001b[39mself\u001b[39;49m\u001b[39m.\u001b[39;49m_n_support,\n\u001b[1;32m    457\u001b[0m     \u001b[39mself\u001b[39;49m\u001b[39m.\u001b[39;49m_dual_coef_,\n\u001b[1;32m    458\u001b[0m     \u001b[39mself\u001b[39;49m\u001b[39m.\u001b[39;49m_intercept_,\n\u001b[1;32m    459\u001b[0m     \u001b[39mself\u001b[39;49m\u001b[39m.\u001b[39;49m_probA,\n\u001b[1;32m    460\u001b[0m     \u001b[39mself\u001b[39;49m\u001b[39m.\u001b[39;49m_probB,\n\u001b[1;32m    461\u001b[0m     svm_type\u001b[39m=\u001b[39;49msvm_type,\n\u001b[1;32m    462\u001b[0m     kernel\u001b[39m=\u001b[39;49mkernel,\n\u001b[1;32m    463\u001b[0m     degree\u001b[39m=\u001b[39;49m\u001b[39mself\u001b[39;49m\u001b[39m.\u001b[39;49mdegree,\n\u001b[1;32m    464\u001b[0m     coef0\u001b[39m=\u001b[39;49m\u001b[39mself\u001b[39;49m\u001b[39m.\u001b[39;49mcoef0,\n\u001b[1;32m    465\u001b[0m     gamma\u001b[39m=\u001b[39;49m\u001b[39mself\u001b[39;49m\u001b[39m.\u001b[39;49m_gamma,\n\u001b[1;32m    466\u001b[0m     cache_size\u001b[39m=\u001b[39;49m\u001b[39mself\u001b[39;49m\u001b[39m.\u001b[39;49mcache_size,\n\u001b[1;32m    467\u001b[0m )\n",
      "\u001b[0;31mKeyboardInterrupt\u001b[0m: "
     ]
    }
   ],
   "source": [
    "\n",
    "name = \"SVC\"\n",
    "\n",
    "for kernel in ['rbf','linear','poly','sigmoid']:\n",
    "    svc_grid = {'C':[0.1,1,10]}\n",
    "    train_test(f\"{name} {kernel}\",SVC(kernel=kernel),svc_grid)\n"
   ]
  },
  {
   "cell_type": "code",
   "execution_count": null,
   "metadata": {},
   "outputs": [
    {
     "name": "stdout",
     "output_type": "stream",
     "text": [
      "Random Forest Classifier\n",
      "Cross Validation Scores:  [0.57383767 0.57399527 0.57399527 0.57399527 0.57408575]\n",
      "Mean Cross Validation Score:  0.5739818466745569\n",
      "Standard Deviation of Cross Validation Scores:  8.015525112999632e-05\n"
     ]
    },
    {
     "data": {
      "image/png": "[encoded data removed]",
      "text/plain": [
       "<Figure size 1000x700 with 1 Axes>"
      ]
     },
     "metadata": {},
     "output_type": "display_data"
    },
    {
     "data": {
      "text/plain": [
       "(GridSearchCV(estimator=RandomForestClassifier(),\n",
       "              param_grid={'max_depth': [None, 10, 100],\n",
       "                          'n_estimators': [10, 100, 1000]}),\n",
       " {'best_params': {'max_depth': None, 'n_estimators': 10},\n",
       "  'best_score': 0.5739818466745569},\n",
       " array([0.57383767, 0.57399527, 0.57399527, 0.57399527, 0.57408575]))"
      ]
     },
     "execution_count": 71,
     "metadata": {},
     "output_type": "execute_result"
    }
   ],
   "source": [
    "\n",
    "name = \"Random Forest Classifier\"\n",
    "random_forest_grid = {'n_estimators':[10,100,1000], 'max_depth':[None,10,100]}\n",
    "train_test(name,RandomForestClassifier(),random_forest_grid)"
   ]
  },
  {
   "cell_type": "code",
   "execution_count": null,
   "metadata": {},
   "outputs": [
    {
     "name": "stdout",
     "output_type": "stream",
     "text": [
      "KNN\n",
      "Cross Validation Scores:  [0.39007092 0.47281324 0.55918046 0.49613869 0.56825347]\n",
      "Mean Cross Validation Score:  0.49729135550726067\n",
      "Standard Deviation of Cross Validation Scores:  0.06474968799041331\n"
     ]
    },
    {
     "data": {
      "image/png": "[encoded data removed]",
      "text/plain": [
       "<Figure size 1000x700 with 1 Axes>"
      ]
     },
     "metadata": {},
     "output_type": "display_data"
    },
    {
     "data": {
      "text/plain": [
       "(GridSearchCV(estimator=KNeighborsClassifier(),\n",
       "              param_grid={'n_neighbors': [1, 5, 10]}),\n",
       " {'best_params': {'n_neighbors': 10}, 'best_score': 0.49729135550726067},\n",
       " array([0.39007092, 0.47281324, 0.55918046, 0.49613869, 0.56825347]))"
      ]
     },
     "execution_count": 72,
     "metadata": {},
     "output_type": "execute_result"
    }
   ],
   "source": [
    "\n",
    "name = \"KNN\"\n",
    "knn_grid = {'n_neighbors':[1,5,10]}\n",
    "train_test(name,KNeighborsClassifier(),knn_grid)"
   ]
  },
  {
   "cell_type": "code",
   "execution_count": null,
   "metadata": {},
   "outputs": [
    {
     "name": "stdout",
     "output_type": "stream",
     "text": [
      "Naive Bayes\n",
      "Cross Validation Scores:  [0.57383767 0.57399527 0.57399527 0.57399527 0.57408575]\n",
      "Mean Cross Validation Score:  0.5739818466745569\n",
      "Standard Deviation of Cross Validation Scores:  8.015525112999632e-05\n"
     ]
    },
    {
     "ename": "UnboundLocalError",
     "evalue": "cannot access local variable 'res' where it is not associated with a value",
     "output_type": "error",
     "traceback": [
      "\u001b[0;31m---------------------------------------------------------------------------\u001b[0m",
      "\u001b[0;31mUnboundLocalError\u001b[0m                         Traceback (most recent call last)",
      "\u001b[1;32m/media/edudaluna/HD/Repos/Github/Inf1038/luna.ipynb Célula 13\u001b[0m line \u001b[0;36m2\n\u001b[1;32m      <a href='vscode-notebook-cell:/media/edudaluna/HD/Repos/Github/Inf1038/luna.ipynb#X20sZmlsZQ%3D%3D?line=0'>1</a>\u001b[0m name \u001b[39m=\u001b[39m \u001b[39m\"\u001b[39m\u001b[39mNaive Bayes\u001b[39m\u001b[39m\"\u001b[39m\n\u001b[0;32m----> <a href='vscode-notebook-cell:/media/edudaluna/HD/Repos/Github/Inf1038/luna.ipynb#X20sZmlsZQ%3D%3D?line=1'>2</a>\u001b[0m train_test(name,MultinomialNB())\n",
      "\u001b[1;32m/media/edudaluna/HD/Repos/Github/Inf1038/luna.ipynb Célula 13\u001b[0m line \u001b[0;36m1\n\u001b[1;32m     <a href='vscode-notebook-cell:/media/edudaluna/HD/Repos/Github/Inf1038/luna.ipynb#X20sZmlsZQ%3D%3D?line=13'>14</a>\u001b[0m \u001b[39mprint\u001b[39m(\u001b[39m\"\u001b[39m\u001b[39mMean Cross Validation Score: \u001b[39m\u001b[39m\"\u001b[39m,scores\u001b[39m.\u001b[39mmean())\n\u001b[1;32m     <a href='vscode-notebook-cell:/media/edudaluna/HD/Repos/Github/Inf1038/luna.ipynb#X20sZmlsZQ%3D%3D?line=14'>15</a>\u001b[0m \u001b[39mprint\u001b[39m(\u001b[39m\"\u001b[39m\u001b[39mStandard Deviation of Cross Validation Scores: \u001b[39m\u001b[39m\"\u001b[39m,scores\u001b[39m.\u001b[39mstd())\n\u001b[0;32m---> <a href='vscode-notebook-cell:/media/edudaluna/HD/Repos/Github/Inf1038/luna.ipynb#X20sZmlsZQ%3D%3D?line=15'>16</a>\u001b[0m res\u001b[39m.\u001b[39mfit(X_train,Y_train)\n\u001b[1;32m     <a href='vscode-notebook-cell:/media/edudaluna/HD/Repos/Github/Inf1038/luna.ipynb#X20sZmlsZQ%3D%3D?line=16'>17</a>\u001b[0m res_grid \u001b[39m=\u001b[39m {\u001b[39m\"\u001b[39m\u001b[39mbest_params\u001b[39m\u001b[39m\"\u001b[39m:res\u001b[39m.\u001b[39mbest_params_,\u001b[39m\"\u001b[39m\u001b[39mbest_score\u001b[39m\u001b[39m\"\u001b[39m:res\u001b[39m.\u001b[39mbest_score_}\n\u001b[1;32m     <a href='vscode-notebook-cell:/media/edudaluna/HD/Repos/Github/Inf1038/luna.ipynb#X20sZmlsZQ%3D%3D?line=17'>18</a>\u001b[0m \u001b[39m#acuracy, precision, recall\u001b[39;00m\n\u001b[1;32m     <a href='vscode-notebook-cell:/media/edudaluna/HD/Repos/Github/Inf1038/luna.ipynb#X20sZmlsZQ%3D%3D?line=18'>19</a>\u001b[0m \u001b[39m#accuracy = accuracy_score(Y,model.predict(X))\u001b[39;00m\n\u001b[1;32m     <a href='vscode-notebook-cell:/media/edudaluna/HD/Repos/Github/Inf1038/luna.ipynb#X20sZmlsZQ%3D%3D?line=19'>20</a>\u001b[0m \u001b[39m#precision = precision_score(Y,model.predict(X),average='weighted')\u001b[39;00m\n\u001b[1;32m     <a href='vscode-notebook-cell:/media/edudaluna/HD/Repos/Github/Inf1038/luna.ipynb#X20sZmlsZQ%3D%3D?line=20'>21</a>\u001b[0m \u001b[39m#recall = recall_score(Y,model.predict(X),average='weighted')\u001b[39;00m\n\u001b[1;32m     <a href='vscode-notebook-cell:/media/edudaluna/HD/Repos/Github/Inf1038/luna.ipynb#X20sZmlsZQ%3D%3D?line=21'>22</a>\u001b[0m \u001b[39m#evaluation = {\"accuracy\":accuracy,\"precision\":precision,\"recall\":recall}\u001b[39;00m\n",
      "\u001b[0;31mUnboundLocalError\u001b[0m: cannot access local variable 'res' where it is not associated with a value"
     ]
    }
   ],
   "source": [
    "\n",
    "name = \"Naive Bayes\"\n",
    "train_test(name,MultinomialNB())"
   ]
  },
  {
   "cell_type": "code",
   "execution_count": null,
   "metadata": {},
   "outputs": [],
   "source": [
    "\n",
    "name = \"Decision Tree\"\n",
    "decision_tree_grid = {'max_depth':[None,10,100]}\n",
    "train_test(name,DecisionTreeClassifier(),decision_tree_grid)"
   ]
  },
  {
   "cell_type": "code",
   "execution_count": null,
   "metadata": {},
   "outputs": [],
   "source": [
    "\n",
    "name = \"LightGBM\"\n",
    "lightgbm_grid = {'num_leaves':[10,100,1000]}\n",
    "train_test(name,lgb.LGBMClassifier(),lightgbm_grid)"
   ]
  },
  {
   "cell_type": "code",
   "execution_count": null,
   "metadata": {},
   "outputs": [],
   "source": [
    "\n",
    "name = \"XGBoost\"\n",
    "xgboost_grid = {'max_depth':[10,100,1000]}\n",
    "train_test(name,xgb.XGBClassifier(),xgboost_grid)"
   ]
  },
  {
   "cell_type": "code",
   "execution_count": null,
   "metadata": {},
   "outputs": [],
   "source": [
    "\n",
    "name = \"CatBoost\"\n",
    "catboost_grid = {'max_depth':[10,100,1000]}\n",
    "train_test(name,cb.CatBoostClassifier(verbose=False),catboost_grid)"
   ]
  },
  {
   "cell_type": "code",
   "execution_count": null,
   "metadata": {},
   "outputs": [],
   "source": [
    "\n",
    "name = \"HGBoost\"\n",
    "hgboost_grid = {'max_depth':[10,100,1000]}\n",
    "train_test(name,HistGradientBoostingClassifier(),hgboost_grid)"
   ]
  },
  {
   "cell_type": "code",
   "execution_count": null,
   "metadata": {},
   "outputs": [],
   "source": [
    "models"
   ]
  },
  {
   "cell_type": "code",
   "execution_count": null,
   "metadata": {},
   "outputs": [],
   "source": [
    "\n",
    "def neural_network_model():\n",
    "    model = keras.Sequential()\n",
    "    model.add(layers.Dense(64, activation='relu', input_shape=(X.shape[1],)))\n",
    "    model.add(layers.Dense(64, activation='relu'))\n",
    "    model.add(layers.Dense(1, activation='sigmoid'))\n",
    "    model.compile(optimizer='adam',loss='binary_crossentropy',metrics=['accuracy'])\n",
    "    return model\n",
    "\n",
    "name = \"Neural Network\"\n",
    "train_test(name,neural_network_model(),plot_confusion=False)"
   ]
  },
  {
   "cell_type": "code",
   "execution_count": null,
   "metadata": {},
   "outputs": [
    {
     "data": {
      "text/plain": [
       "[('Logistic Regression',\n",
       "  0.5738376674546888,\n",
       "  0.5739952718676123,\n",
       "  0.5739952718676123,\n",
       "  0.5739952718676123,\n",
       "  0.5740857503152585,\n",
       "  {'best_params': {'C': 0.1}, 'best_score': 0.5739818466745569}),\n",
       " ('SVC rbf',\n",
       "  0.5738376674546888,\n",
       "  0.5739952718676123,\n",
       "  0.5739952718676123,\n",
       "  0.5739952718676123,\n",
       "  0.5740857503152585,\n",
       "  {'best_params': {'C': 0.1}, 'best_score': 0.5739818466745569}),\n",
       " ('SVC linear',\n",
       "  0.5738376674546888,\n",
       "  0.5739952718676123,\n",
       "  0.5739952718676123,\n",
       "  0.5739952718676123,\n",
       "  0.5740857503152585,\n",
       "  {'best_params': {'C': 0.1}, 'best_score': 0.5739818466745569}),\n",
       " ('SVC poly',\n",
       "  0.5738376674546888,\n",
       "  0.5739952718676123,\n",
       "  0.5739952718676123,\n",
       "  0.5739952718676123,\n",
       "  0.5740857503152585,\n",
       "  {'best_params': {'C': 0.1}, 'best_score': 0.5739818466745569}),\n",
       " ('SVC sigmoid',\n",
       "  0.5208825847123719,\n",
       "  0.5257683215130023,\n",
       "  0.5279747832939322,\n",
       "  0.514736012608353,\n",
       "  0.5256935687263556,\n",
       "  {'best_params': {'C': 0.1}, 'best_score': 0.5230110541708031}),\n",
       " ('Random Forest Classifier',\n",
       "  0.5738376674546888,\n",
       "  0.5739952718676123,\n",
       "  0.5739952718676123,\n",
       "  0.5739952718676123,\n",
       "  0.5740857503152585,\n",
       "  {'best_params': {'max_depth': None, 'n_estimators': 10},\n",
       "   'best_score': 0.5739818466745569}),\n",
       " ('KNN',\n",
       "  0.3900709219858156,\n",
       "  0.4728132387706856,\n",
       "  0.5591804570527975,\n",
       "  0.49613869188337273,\n",
       "  0.5682534678436317,\n",
       "  {'best_params': {'n_neighbors': 10}, 'best_score': 0.49729135550726067})]"
      ]
     },
     "execution_count": 73,
     "metadata": {},
     "output_type": "execute_result"
    }
   ],
   "source": [
    "models"
   ]
  }
 ],
 "metadata": {
  "kernelspec": {
   "display_name": "Python 3 (ipykernel)",
   "language": "python",
   "name": "python3"
  },
  "language_info": {
   "codemirror_mode": {
    "name": "ipython",
    "version": 3
   },
   "file_extension": ".py",
   "mimetype": "text/x-python",
   "name": "python",
   "nbconvert_exporter": "python",
   "pygments_lexer": "ipython3",
   "version": "3.11.0rc1"
  }
 },
 "nbformat": 4,
 "nbformat_minor": 2
}
